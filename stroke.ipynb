{
 "cells": [
  {
   "cell_type": "markdown",
   "source": [
    "## BITS WILP\n",
    "# Data Mining ISZC415\n",
    "\n",
    "|Name|RollNumber|Contribution|\n",
    "|---|---|---|\n",
    "|Anupam Srivastava|2018HT13250|100%|\n",
    "|Mohd Shoeb|2020MT12084|100%|"
   ],
   "metadata": {
    "collapsed": false
   }
  },
  {
   "cell_type": "markdown",
   "source": [
    "## Table of contents:\n",
    "\n",
    "1. Data selection\n",
    "2. First look\n",
    "3. Data pre-processing and exploration\n",
    "    1. Numerical attributes\n",
    "        1. Normalization using z-score\n",
    "        2. Outlier removal using z-score\n",
    "        3. Cluster analysis of numerical features using k-means\n",
    "        4. Observations\n",
    "    2. Categorical attributes\n",
    "        1. Outlier removal\n",
    "        1. Association rule mining based on Apriori\n",
    "        2. Observations"
   ],
   "metadata": {
    "collapsed": false
   }
  },
  {
   "cell_type": "code",
   "execution_count": 1,
   "metadata": {
    "collapsed": true
   },
   "outputs": [],
   "source": [
    "import pandas as pd\n",
    "import numpy as np\n",
    "import matplotlib.pyplot as plt\n",
    "import seaborn as sns"
   ]
  },
  {
   "cell_type": "markdown",
   "source": [
    "### Data selection"
   ],
   "metadata": {
    "collapsed": false,
    "pycharm": {
     "name": "#%% md\n"
    }
   }
  },
  {
   "cell_type": "code",
   "execution_count": 2,
   "outputs": [],
   "source": [
    "fileName = \"healthcare-dataset-stroke-data.csv\"\n",
    "df = pd.read_csv(fileName)"
   ],
   "metadata": {
    "collapsed": false,
    "pycharm": {
     "name": "#%%\n"
    }
   }
  },
  {
   "cell_type": "markdown",
   "source": [
    "### First look"
   ],
   "metadata": {
    "collapsed": false,
    "pycharm": {
     "name": "#%% md\n"
    }
   }
  },
  {
   "cell_type": "code",
   "execution_count": 3,
   "outputs": [
    {
     "data": {
      "text/plain": "      id  gender   age  hypertension  heart_disease ever_married  \\\n0   9046    Male  67.0             0              1          Yes   \n1  51676  Female  61.0             0              0          Yes   \n2  31112    Male  80.0             0              1          Yes   \n3  60182  Female  49.0             0              0          Yes   \n4   1665  Female  79.0             1              0          Yes   \n\n       work_type Residence_type  avg_glucose_level   bmi   smoking_status  \\\n0        Private          Urban             228.69  36.6  formerly smoked   \n1  Self-employed          Rural             202.21   NaN     never smoked   \n2        Private          Rural             105.92  32.5     never smoked   \n3        Private          Urban             171.23  34.4           smokes   \n4  Self-employed          Rural             174.12  24.0     never smoked   \n\n   stroke  \n0       1  \n1       1  \n2       1  \n3       1  \n4       1  ",
      "text/html": "<div>\n<style scoped>\n    .dataframe tbody tr th:only-of-type {\n        vertical-align: middle;\n    }\n\n    .dataframe tbody tr th {\n        vertical-align: top;\n    }\n\n    .dataframe thead th {\n        text-align: right;\n    }\n</style>\n<table border=\"1\" class=\"dataframe\">\n  <thead>\n    <tr style=\"text-align: right;\">\n      <th></th>\n      <th>id</th>\n      <th>gender</th>\n      <th>age</th>\n      <th>hypertension</th>\n      <th>heart_disease</th>\n      <th>ever_married</th>\n      <th>work_type</th>\n      <th>Residence_type</th>\n      <th>avg_glucose_level</th>\n      <th>bmi</th>\n      <th>smoking_status</th>\n      <th>stroke</th>\n    </tr>\n  </thead>\n  <tbody>\n    <tr>\n      <th>0</th>\n      <td>9046</td>\n      <td>Male</td>\n      <td>67.0</td>\n      <td>0</td>\n      <td>1</td>\n      <td>Yes</td>\n      <td>Private</td>\n      <td>Urban</td>\n      <td>228.69</td>\n      <td>36.6</td>\n      <td>formerly smoked</td>\n      <td>1</td>\n    </tr>\n    <tr>\n      <th>1</th>\n      <td>51676</td>\n      <td>Female</td>\n      <td>61.0</td>\n      <td>0</td>\n      <td>0</td>\n      <td>Yes</td>\n      <td>Self-employed</td>\n      <td>Rural</td>\n      <td>202.21</td>\n      <td>NaN</td>\n      <td>never smoked</td>\n      <td>1</td>\n    </tr>\n    <tr>\n      <th>2</th>\n      <td>31112</td>\n      <td>Male</td>\n      <td>80.0</td>\n      <td>0</td>\n      <td>1</td>\n      <td>Yes</td>\n      <td>Private</td>\n      <td>Rural</td>\n      <td>105.92</td>\n      <td>32.5</td>\n      <td>never smoked</td>\n      <td>1</td>\n    </tr>\n    <tr>\n      <th>3</th>\n      <td>60182</td>\n      <td>Female</td>\n      <td>49.0</td>\n      <td>0</td>\n      <td>0</td>\n      <td>Yes</td>\n      <td>Private</td>\n      <td>Urban</td>\n      <td>171.23</td>\n      <td>34.4</td>\n      <td>smokes</td>\n      <td>1</td>\n    </tr>\n    <tr>\n      <th>4</th>\n      <td>1665</td>\n      <td>Female</td>\n      <td>79.0</td>\n      <td>1</td>\n      <td>0</td>\n      <td>Yes</td>\n      <td>Self-employed</td>\n      <td>Rural</td>\n      <td>174.12</td>\n      <td>24.0</td>\n      <td>never smoked</td>\n      <td>1</td>\n    </tr>\n  </tbody>\n</table>\n</div>"
     },
     "execution_count": 3,
     "metadata": {},
     "output_type": "execute_result"
    }
   ],
   "source": [
    "df.head()"
   ],
   "metadata": {
    "collapsed": false,
    "pycharm": {
     "name": "#%%\n"
    }
   }
  },
  {
   "cell_type": "code",
   "execution_count": 4,
   "outputs": [
    {
     "data": {
      "text/plain": "(5110, 12)"
     },
     "execution_count": 4,
     "metadata": {},
     "output_type": "execute_result"
    }
   ],
   "source": [
    "df.shape"
   ],
   "metadata": {
    "collapsed": false,
    "pycharm": {
     "name": "#%%\n"
    }
   }
  },
  {
   "cell_type": "code",
   "execution_count": 5,
   "outputs": [
    {
     "name": "stdout",
     "output_type": "stream",
     "text": [
      "<class 'pandas.core.frame.DataFrame'>\n",
      "RangeIndex: 5110 entries, 0 to 5109\n",
      "Data columns (total 12 columns):\n",
      " #   Column             Non-Null Count  Dtype  \n",
      "---  ------             --------------  -----  \n",
      " 0   id                 5110 non-null   int64  \n",
      " 1   gender             5110 non-null   object \n",
      " 2   age                5110 non-null   float64\n",
      " 3   hypertension       5110 non-null   int64  \n",
      " 4   heart_disease      5110 non-null   int64  \n",
      " 5   ever_married       5110 non-null   object \n",
      " 6   work_type          5110 non-null   object \n",
      " 7   Residence_type     5110 non-null   object \n",
      " 8   avg_glucose_level  5110 non-null   float64\n",
      " 9   bmi                4909 non-null   float64\n",
      " 10  smoking_status     5110 non-null   object \n",
      " 11  stroke             5110 non-null   int64  \n",
      "dtypes: float64(3), int64(4), object(5)\n",
      "memory usage: 479.2+ KB\n"
     ]
    }
   ],
   "source": [
    "df.info()"
   ],
   "metadata": {
    "collapsed": false,
    "pycharm": {
     "name": "#%%\n"
    }
   }
  },
  {
   "cell_type": "markdown",
   "source": [
    "### Data pre-processing and exploration\n",
    "\n",
    "We want to analyse the features that are good predictory for having a stroke. Thus, \"stroke\" is the\n",
    "target variable.\n",
    "\n",
    "The data consists of both numerical and categorical features. From the data we can see that bmi is\n",
    "null for certain rows. Also, id is not a feature hence can be dropped."
   ],
   "metadata": {
    "collapsed": false,
    "pycharm": {
     "name": "#%% md\n"
    }
   }
  },
  {
   "cell_type": "code",
   "source": [
    "df = df.drop(columns=\"id\")"
   ],
   "metadata": {
    "collapsed": false,
    "pycharm": {
     "name": "#%%\n"
    }
   },
   "execution_count": 6,
   "outputs": []
  },
  {
   "cell_type": "code",
   "execution_count": 7,
   "outputs": [
    {
     "name": "stdout",
     "output_type": "stream",
     "text": [
      "Numerical features: ['age', 'avg_glucose_level', 'bmi']\n",
      "Categorical features: ['gender', 'hypertension', 'heart_disease', 'ever_married', 'work_type', 'Residence_type', 'smoking_status']\n",
      "Target: stroke\n"
     ]
    }
   ],
   "source": [
    "target = \"stroke\"\n",
    "numerical = list()\n",
    "categorical = list()\n",
    "for col in df.columns:\n",
    "    if col == target:\n",
    "        continue\n",
    "    if len(df[col].value_counts()) > 5:\n",
    "        numerical.append(col)\n",
    "    else:\n",
    "        categorical.append(col)\n",
    "\n",
    "print(\"Numerical features:\", numerical)\n",
    "print(\"Categorical features:\", categorical)\n",
    "print(\"Target:\", target)"
   ],
   "metadata": {
    "collapsed": false,
    "pycharm": {
     "name": "#%%\n"
    }
   }
  },
  {
   "cell_type": "markdown",
   "source": [
    "#### Numerical attributes"
   ],
   "metadata": {
    "collapsed": false,
    "pycharm": {
     "name": "#%% md\n"
    }
   }
  },
  {
   "cell_type": "code",
   "execution_count": 8,
   "outputs": [
    {
     "data": {
      "text/plain": "               age  avg_glucose_level          bmi\ncount  5110.000000        5110.000000  4909.000000\nmean     43.226614         106.147677    28.893237\nstd      22.612647          45.283560     7.854067\nmin       0.080000          55.120000    10.300000\n25%      25.000000          77.245000    23.500000\n50%      45.000000          91.885000    28.100000\n75%      61.000000         114.090000    33.100000\nmax      82.000000         271.740000    97.600000",
      "text/html": "<div>\n<style scoped>\n    .dataframe tbody tr th:only-of-type {\n        vertical-align: middle;\n    }\n\n    .dataframe tbody tr th {\n        vertical-align: top;\n    }\n\n    .dataframe thead th {\n        text-align: right;\n    }\n</style>\n<table border=\"1\" class=\"dataframe\">\n  <thead>\n    <tr style=\"text-align: right;\">\n      <th></th>\n      <th>age</th>\n      <th>avg_glucose_level</th>\n      <th>bmi</th>\n    </tr>\n  </thead>\n  <tbody>\n    <tr>\n      <th>count</th>\n      <td>5110.000000</td>\n      <td>5110.000000</td>\n      <td>4909.000000</td>\n    </tr>\n    <tr>\n      <th>mean</th>\n      <td>43.226614</td>\n      <td>106.147677</td>\n      <td>28.893237</td>\n    </tr>\n    <tr>\n      <th>std</th>\n      <td>22.612647</td>\n      <td>45.283560</td>\n      <td>7.854067</td>\n    </tr>\n    <tr>\n      <th>min</th>\n      <td>0.080000</td>\n      <td>55.120000</td>\n      <td>10.300000</td>\n    </tr>\n    <tr>\n      <th>25%</th>\n      <td>25.000000</td>\n      <td>77.245000</td>\n      <td>23.500000</td>\n    </tr>\n    <tr>\n      <th>50%</th>\n      <td>45.000000</td>\n      <td>91.885000</td>\n      <td>28.100000</td>\n    </tr>\n    <tr>\n      <th>75%</th>\n      <td>61.000000</td>\n      <td>114.090000</td>\n      <td>33.100000</td>\n    </tr>\n    <tr>\n      <th>max</th>\n      <td>82.000000</td>\n      <td>271.740000</td>\n      <td>97.600000</td>\n    </tr>\n  </tbody>\n</table>\n</div>"
     },
     "execution_count": 8,
     "metadata": {},
     "output_type": "execute_result"
    }
   ],
   "source": [
    "df[numerical].describe()"
   ],
   "metadata": {
    "collapsed": false,
    "pycharm": {
     "name": "#%%\n"
    }
   }
  },
  {
   "cell_type": "markdown",
   "source": [
    "All numerical attributes are of ratio type.\n",
    "\n",
    "We will replace null bmi values with median and then check of correlation between them to find out\n",
    "if all the numerical attributes are independent or not."
   ],
   "metadata": {
    "collapsed": false,
    "pycharm": {
     "name": "#%% md\n"
    }
   }
  },
  {
   "cell_type": "code",
   "execution_count": 9,
   "outputs": [],
   "source": [
    "df[\"bmi\"].fillna(df[\"bmi\"].median(), inplace= True)"
   ],
   "metadata": {
    "collapsed": false,
    "pycharm": {
     "name": "#%%\n"
    }
   }
  },
  {
   "cell_type": "code",
   "execution_count": 10,
   "outputs": [
    {
     "data": {
      "text/plain": "gender               0\nage                  0\nhypertension         0\nheart_disease        0\never_married         0\nwork_type            0\nResidence_type       0\navg_glucose_level    0\nbmi                  0\nsmoking_status       0\nstroke               0\ndtype: int64"
     },
     "execution_count": 10,
     "metadata": {},
     "output_type": "execute_result"
    }
   ],
   "source": [
    "df.isnull().sum()"
   ],
   "metadata": {
    "collapsed": false,
    "pycharm": {
     "name": "#%%\n"
    }
   }
  },
  {
   "cell_type": "code",
   "execution_count": 11,
   "outputs": [
    {
     "name": "stdout",
     "output_type": "stream",
     "text": [
      "                        age  avg_glucose_level       bmi\n",
      "age                1.000000           0.238171  0.324296\n",
      "avg_glucose_level  0.238171           1.000000  0.166876\n",
      "bmi                0.324296           0.166876  1.000000\n"
     ]
    },
    {
     "data": {
      "text/plain": "<Figure size 432x288 with 2 Axes>",
      "image/png": "[encoded data removed]"
     },
     "metadata": {
      "needs_background": "light"
     },
     "output_type": "display_data"
    }
   ],
   "source": [
    "corr_matrix = df[numerical].corr()\n",
    "print(corr_matrix)\n",
    "sns.heatmap(corr_matrix, annot=True)\n",
    "plt.show()"
   ],
   "metadata": {
    "collapsed": false,
    "pycharm": {
     "name": "#%%\n"
    }
   }
  },
  {
   "cell_type": "markdown",
   "source": [
    "From the correlation matrix we see that numerical features are mostly independent of each other.\n",
    "\n",
    "Thus, we do not need to perform Principal Component Analysis for numerical features."
   ],
   "metadata": {
    "collapsed": false,
    "pycharm": {
     "name": "#%% md\n"
    }
   }
  },
  {
   "cell_type": "code",
   "execution_count": 12,
   "outputs": [
    {
     "data": {
      "text/plain": "<Figure size 432x288 with 1 Axes>",
      "image/png": "[encoded data removed]"
     },
     "metadata": {
      "needs_background": "light"
     },
     "output_type": "display_data"
    },
    {
     "data": {
      "text/plain": "<Figure size 432x288 with 1 Axes>",
      "image/png": "[encoded data removed]"
     },
     "metadata": {
      "needs_background": "light"
     },
     "output_type": "display_data"
    },
    {
     "data": {
      "text/plain": "<Figure size 432x288 with 1 Axes>",
      "image/png": "[encoded data removed]"
     },
     "metadata": {
      "needs_background": "light"
     },
     "output_type": "display_data"
    }
   ],
   "source": [
    "for col in numerical:\n",
    "    df[col].plot(kind=\"hist\", bins=50)\n",
    "    plt.title(col)\n",
    "    plt.grid()\n",
    "    plt.show()"
   ],
   "metadata": {
    "collapsed": false,
    "pycharm": {
     "name": "#%%\n"
    }
   }
  },
  {
   "cell_type": "markdown",
   "source": [
    "We can see that bmi is highly skewed to the right and we should normalize it by removing any\n",
    "outliers. We will do this my calculating z-score and removing any point with z-score > 3 or < -3 as\n",
    "an outlier.\n",
    "\n",
    "##### Data normalization using z-score"
   ],
   "metadata": {
    "collapsed": false,
    "pycharm": {
     "name": "#%% md\n"
    }
   }
  },
  {
   "cell_type": "code",
   "execution_count": 13,
   "outputs": [],
   "source": [
    "bmi_mean = df[\"bmi\"].mean()\n",
    "bmi_sd = df[\"bmi\"].std()\n",
    "bmi_z_score = list()\n",
    "for i in df[\"bmi\"]:\n",
    "    z = (i - bmi_mean) / bmi_sd\n",
    "    bmi_z_score.append(z)\n",
    "df[\"bmi_z_score\"] = bmi_z_score\n",
    "\n",
    "age_mean = df[\"age\"].mean()\n",
    "age_sd = df[\"age\"].std()\n",
    "age_z_score = list()\n",
    "for i in df[\"age\"]:\n",
    "    z = (i - age_mean) / age_sd\n",
    "    age_z_score.append(z)\n",
    "df[\"age_z_score\"] = age_z_score\n",
    "\n",
    "agl_mean = df[\"avg_glucose_level\"].mean()\n",
    "agl_sd = df[\"avg_glucose_level\"].std()\n",
    "agl_z_score = list()\n",
    "for i in df[\"avg_glucose_level\"]:\n",
    "    z = (i - agl_mean) / agl_sd\n",
    "    agl_z_score.append(z)\n",
    "df[\"agl_z_score\"] = agl_z_score"
   ],
   "metadata": {
    "collapsed": false,
    "pycharm": {
     "name": "#%%\n"
    }
   }
  },
  {
   "cell_type": "markdown",
   "source": [
    "##### Outlier removal using z-score"
   ],
   "metadata": {
    "collapsed": false,
    "pycharm": {
     "name": "#%% md\n"
    }
   }
  },
  {
   "cell_type": "code",
   "execution_count": 14,
   "outputs": [
    {
     "name": "stdout",
     "output_type": "stream",
     "text": [
      "Total removed outliers for bmi: 59\n",
      "Total removed outliers for age: 0\n",
      "Total removed outliers for avg_glucose_level: 49\n"
     ]
    }
   ],
   "source": [
    "previous_len = len(df)\n",
    "df = df[abs(df.bmi_z_score) < 3]\n",
    "new_len = len(df)\n",
    "print(\"Total removed outliers for bmi:\", previous_len - new_len)\n",
    "previous_len = new_len\n",
    "df = df[abs(df.age_z_score) < 3]\n",
    "new_len = len(df)\n",
    "print(\"Total removed outliers for age:\", previous_len - new_len)\n",
    "previous_len = new_len\n",
    "df = df[abs(df.agl_z_score) < 3]\n",
    "new_len = len(df)\n",
    "print(\"Total removed outliers for avg_glucose_level:\", previous_len - new_len)"
   ],
   "metadata": {
    "collapsed": false,
    "pycharm": {
     "name": "#%%\n"
    }
   }
  },
  {
   "cell_type": "code",
   "execution_count": null,
   "outputs": [],
   "source": [
    "# pairwise scatter plot\n",
    "input_columns = numerical\n",
    "input_columns.append(target)\n",
    "sns.pairplot(df[input_columns], kind=\"reg\", hue=target, diag_kind=\"hist\",\n",
    "            plot_kws={\"scatter_kws\": {\"alpha\": 0.5}}, markers=\"+\")\n",
    "plt.show()"
   ],
   "metadata": {
    "collapsed": false,
    "pycharm": {
     "name": "#%%\n",
     "is_executing": true
    }
   }
  },
  {
   "cell_type": "markdown",
   "source": [
    "##### Cluster analysis of numerical features using k-means\n",
    "We construct a n-dimensional plane where n is the number of numerical features we have and try to\n",
    "find 2 clusters, then calculate the density of target in each cluster."
   ],
   "metadata": {
    "collapsed": false,
    "pycharm": {
     "name": "#%% md\n"
    }
   }
  },
  {
   "cell_type": "code",
   "execution_count": null,
   "outputs": [],
   "source": [
    "ax = plt.axes(projection='3d')\n",
    "xline = df[\"bmi_z_score\"]\n",
    "yline = df[\"age_z_score\"]\n",
    "zline = df[\"agl_z_score\"]\n",
    "cline = df[target]\n",
    "ax.scatter3D(xline, yline, zline, c=cline, cmap='Wistia', alpha=0.1)\n",
    "ax.set_xlabel(\"bmi_z_score\")\n",
    "ax.set_ylabel(\"age_z_score\")\n",
    "ax.set_zlabel(\"agl_z_score\")\n",
    "plt.show()"
   ],
   "metadata": {
    "collapsed": false,
    "pycharm": {
     "name": "#%%\n",
     "is_executing": true
    }
   }
  },
  {
   "cell_type": "code",
   "execution_count": null,
   "outputs": [],
   "source": [
    "k = 2\n",
    "df_kmeans = df[[\"bmi_z_score\", \"age_z_score\", \"agl_z_score\", target]]\n",
    "df_kmeans = df_kmeans.rename(columns={\"bmi_z_score\": \"x\", \"age_z_score\": \"y\", \"agl_z_score\": \"z\"})\n",
    "np.random.choice(df_kmeans[\"x\"])\n",
    "centroids = {\n",
    "    i+1: [np.random.choice(df_kmeans[\"x\"]),\n",
    "          np.random.choice(df_kmeans[\"y\"]),\n",
    "          np.random.choice(df_kmeans[\"z\"])]\n",
    "    for i in range(k)\n",
    "}\n",
    "colmap = {1: 'r', 2: 'g', 3: 'b'}\n",
    "\n",
    "def assignment(_df, _centroids):\n",
    "    for i in _centroids.keys():\n",
    "        _df['distance_from_{}'.format(i)] = (\n",
    "            np.sqrt(\n",
    "                (_df[\"x\"] - _centroids[i][0]) ** 2\n",
    "                + (_df[\"y\"] - _centroids[i][1]) ** 2\n",
    "            )\n",
    "        )\n",
    "    centroid_distance_cols = ['distance_from_{}'.format(i) for i in _centroids.keys()]\n",
    "    _df['closest'] = _df.loc[:, centroid_distance_cols].idxmin(axis=1)\n",
    "    _df['closest'] = _df['closest'].map(lambda x: int(x.lstrip('distance_from_')))\n",
    "    _df['color'] = _df['closest'].map(lambda x: colmap[x])\n",
    "    return _df\n",
    "\n",
    "df_kmeans = assignment(df_kmeans, centroids)\n",
    "\n",
    "import copy\n",
    "old_centroids = copy.deepcopy(centroids)\n",
    "\n",
    "def update(_k):\n",
    "    for i in centroids.keys():\n",
    "        centroids[i][0] = np.mean(df_kmeans[df_kmeans['closest'] == i]['x'])\n",
    "        centroids[i][1] = np.mean(df_kmeans[df_kmeans['closest'] == i]['y'])\n",
    "    return _k\n",
    "\n",
    "centroids = update(centroids)\n",
    "# Continue until all assigned categories don't change any more\n",
    "while True:\n",
    "    closest_centroids = df_kmeans['closest'].copy(deep=True)\n",
    "    centroids = update(centroids)\n",
    "    df_kmeans = assignment(df_kmeans, centroids)\n",
    "    if closest_centroids.equals(df_kmeans['closest']):\n",
    "        break\n",
    "\n",
    "ax = plt.axes(projection='3d')\n",
    "ax.scatter3D(df_kmeans[\"x\"], df_kmeans[\"y\"], df_kmeans[\"z\"], c=df_kmeans[\"color\"], alpha=0.1, cmap=\"brg\")\n",
    "ax.set_xlabel(\"bmi_z_score\")\n",
    "ax.set_ylabel(\"age_z_score\")\n",
    "ax.set_zlabel(\"agl_z_score\")\n",
    "\n",
    "stroke_1 = len(df_kmeans[(df_kmeans.stroke == 1) & (df_kmeans.closest == 1)]) * 100 \\\n",
    "           / len(df_kmeans[df_kmeans.closest == 1])\n",
    "stroke_2 = len(df_kmeans[(df_kmeans.stroke == 1) & (df_kmeans.closest == 2)]) * 100 \\\n",
    "           / len(df_kmeans[df_kmeans.closest == 2])\n",
    "print(\"% of people with stroke in group 1:\", stroke_1)\n",
    "print(\"% of people with stroke in group 2:\", stroke_2)"
   ],
   "metadata": {
    "collapsed": false,
    "pycharm": {
     "name": "#%%\n",
     "is_executing": true
    }
   }
  },
  {
   "cell_type": "markdown",
   "source": [
    "##### Observations\n",
    "\n",
    "1. From the pairwise scatter plot we can see that age is a strong predictor of stroke.\n",
    "1. We also see that if bmi is above median, then high avg_glucose_level also predicts stroke. We can\n",
    "   confirm this by doing a cluster analysis later.\n",
    "1. k-means was able to create clearly beneficial clusters, it was **not** able to predict target\n",
    "   variable to acceptable degree. This could be because number of positive cases is a degree of\n",
    "   level lower than negative cases, rendering k-means unsuitable for this analysis, and it could\n",
    "   also be because we have yet to consider categorical features."
   ],
   "metadata": {
    "collapsed": false,
    "pycharm": {
     "name": "#%% md\n"
    }
   }
  },
  {
   "cell_type": "markdown",
   "source": [
    "#### Categorical attributes"
   ],
   "metadata": {
    "collapsed": false,
    "pycharm": {
     "name": "#%% md\n"
    }
   }
  },
  {
   "cell_type": "code",
   "execution_count": null,
   "outputs": [],
   "source": [
    "for col in categorical:\n",
    "    print(df[col].value_counts())\n",
    "    sns.countplot(x=col, hue=target, data=df)\n",
    "    plt.title(col)\n",
    "    plt.grid()\n",
    "    plt.show()"
   ],
   "metadata": {
    "collapsed": false,
    "pycharm": {
     "name": "#%%\n",
     "is_executing": true
    }
   }
  },
  {
   "cell_type": "markdown",
   "source": [
    "##### Outlier removal\n",
    "\"Other\" gender can be dropped as it is an outlier."
   ],
   "metadata": {
    "collapsed": false,
    "pycharm": {
     "name": "#%% md\n"
    }
   }
  },
  {
   "cell_type": "code",
   "execution_count": null,
   "outputs": [],
   "source": [
    "df = df[df.gender != \"Other\"]\n",
    "df[\"gender\"].value_counts()"
   ],
   "metadata": {
    "collapsed": false,
    "pycharm": {
     "name": "#%%\n",
     "is_executing": true
    }
   }
  },
  {
   "cell_type": "markdown",
   "source": [
    "##### Association rule mining based on Apriori\n",
    "We perform association rule mining to find out any relation between given categorical features. We\n",
    "chose **Apriori algorithm** because our dataset is not very big and execution time is within\n",
    "reasonable limits."
   ],
   "metadata": {
    "collapsed": false,
    "pycharm": {
     "name": "#%% md\n"
    }
   }
  },
  {
   "cell_type": "code",
   "execution_count": null,
   "outputs": [],
   "source": [
    "from collections import namedtuple\n",
    "from itertools import combinations\n",
    "from itertools import chain\n",
    "\n",
    "\n",
    "class TransactionManager(object):\n",
    "    def __init__(self, transactions):\n",
    "        self.__num_transaction = 0\n",
    "        self.__items = []\n",
    "        self.__transaction_index_map = {}\n",
    "\n",
    "        for transaction in transactions:\n",
    "            self.add_transaction(transaction)\n",
    "\n",
    "    def add_transaction(self, transaction):\n",
    "        for item in transaction:\n",
    "            if item not in self.__transaction_index_map:\n",
    "                self.__items.append(item)\n",
    "                self.__transaction_index_map[item] = set()\n",
    "            self.__transaction_index_map[item].add(self.__num_transaction)\n",
    "        self.__num_transaction += 1\n",
    "\n",
    "    def calc_support(self, items):\n",
    "        if not items:\n",
    "            return 1.0\n",
    "\n",
    "        if not self.num_transaction:\n",
    "            return 0.0\n",
    "\n",
    "        sum_indexes = None\n",
    "        for item in items:\n",
    "            indexes = self.__transaction_index_map.get(item)\n",
    "            if indexes is None:\n",
    "                return 0.0\n",
    "\n",
    "            if sum_indexes is None:\n",
    "                sum_indexes = indexes\n",
    "            else:\n",
    "                sum_indexes = sum_indexes.intersection(indexes)\n",
    "\n",
    "        return float(len(sum_indexes)) / self.__num_transaction\n",
    "\n",
    "    def initial_candidates(self):\n",
    "        return [frozenset([item]) for item in self.items]\n",
    "\n",
    "    @property\n",
    "    def num_transaction(self):\n",
    "        return self.__num_transaction\n",
    "\n",
    "    @property\n",
    "    def items(self):\n",
    "        return sorted(self.__items)\n",
    "\n",
    "    @staticmethod\n",
    "    def create(transactions):\n",
    "        if isinstance(transactions, TransactionManager):\n",
    "            return transactions\n",
    "        return TransactionManager(transactions)\n",
    "\n",
    "\n",
    "SupportRecord = namedtuple('SupportRecord', ('items', 'support'))\n",
    "RelationRecord = namedtuple('RelationRecord', SupportRecord._fields + ('ordered_statistics',))\n",
    "OrderedStatistic = namedtuple('OrderedStatistic', ('items_base', 'items_add', 'confidence', 'lift',))\n",
    "\n",
    "def create_next_candidates(prev_candidates, length):\n",
    "    items = sorted(frozenset(chain.from_iterable(prev_candidates)))\n",
    "    tmp_next_candidates = (frozenset(x) for x in combinations(items, length))\n",
    "    if length < 3:\n",
    "        return list(tmp_next_candidates)\n",
    "\n",
    "    next_candidates = [\n",
    "        candidate for candidate in tmp_next_candidates\n",
    "        if all(\n",
    "            frozenset(x) in prev_candidates\n",
    "            for x in combinations(candidate, length - 1))\n",
    "    ]\n",
    "    return next_candidates\n",
    "\n",
    "def gen_support_records(transaction_manager, min_support, **kwargs):\n",
    "    max_length = kwargs.get('max_length')\n",
    "    _create_next_candidates = kwargs.get('_create_next_candidates', create_next_candidates)\n",
    "    candidates = transaction_manager.initial_candidates()\n",
    "    length = 1\n",
    "    while candidates:\n",
    "        relations = set()\n",
    "        for relation_candidate in candidates:\n",
    "            support = transaction_manager.calc_support(relation_candidate)\n",
    "            if support < min_support:\n",
    "                continue\n",
    "            candidate_set = frozenset(relation_candidate)\n",
    "            relations.add(candidate_set)\n",
    "            yield SupportRecord(candidate_set, support)\n",
    "        length += 1\n",
    "        if max_length and length > max_length:\n",
    "            break\n",
    "        candidates = _create_next_candidates(relations, length)\n",
    "\n",
    "def gen_ordered_statistics(transaction_manager, record):\n",
    "    items = record.items\n",
    "    sorted_items = sorted(items)\n",
    "    for base_length in range(len(items)):\n",
    "        for combination_set in combinations(sorted_items, base_length):\n",
    "            items_base = frozenset(combination_set)\n",
    "            items_add = frozenset(items.difference(items_base))\n",
    "            confidence = (\n",
    "                record.support / transaction_manager.calc_support(items_base))\n",
    "            lift = confidence / transaction_manager.calc_support(items_add)\n",
    "            yield OrderedStatistic(\n",
    "                frozenset(items_base), frozenset(items_add), confidence, lift)\n",
    "\n",
    "\n",
    "def filter_ordered_statistics(ordered_statistics, **kwargs):\n",
    "    min_confidence = kwargs.get('min_confidence', 0.0)\n",
    "    min_lift = kwargs.get('min_lift', 0.0)\n",
    "    for ordered_statistic in ordered_statistics:\n",
    "        if ordered_statistic.confidence < min_confidence:\n",
    "            continue\n",
    "        if ordered_statistic.lift < min_lift:\n",
    "            continue\n",
    "        yield ordered_statistic\n",
    "\n",
    "def apriori(transactions, **kwargs):\n",
    "    min_support = kwargs.get('min_support', 0.1)\n",
    "    min_confidence = kwargs.get('min_confidence', 0.0)\n",
    "    min_lift = kwargs.get('min_lift', 0.0)\n",
    "    max_length = kwargs.get('max_length', None)\n",
    "    if min_support <= 0:\n",
    "        raise ValueError('minimum support must be > 0')\n",
    "\n",
    "    _gen_support_records = kwargs.get('_gen_support_records', gen_support_records)\n",
    "    _gen_ordered_statistics = kwargs.get('_gen_ordered_statistics', gen_ordered_statistics)\n",
    "    _filter_ordered_statistics = kwargs.get('_filter_ordered_statistics', filter_ordered_statistics)\n",
    "    transaction_manager = TransactionManager.create(transactions)\n",
    "    support_records = _gen_support_records(transaction_manager, min_support, max_length=max_length)\n",
    "    for support_record in support_records:\n",
    "        ordered_statistics = list(\n",
    "            _filter_ordered_statistics(\n",
    "                _gen_ordered_statistics(transaction_manager, support_record),\n",
    "                min_confidence=min_confidence,\n",
    "                min_lift=min_lift,\n",
    "            )\n",
    "        )\n",
    "        if not ordered_statistics:\n",
    "            continue\n",
    "        yield RelationRecord(\n",
    "            support_record.items, support_record.support, ordered_statistics)\n",
    "\n",
    "df_cat = pd.DataFrame()\n",
    "transactions = list()\n",
    "for index, row in df.iterrows():\n",
    "    txn = list()\n",
    "    for col in categorical:\n",
    "        txn.append(col + \"_\" + str(row[col]))\n",
    "    txn.append(target + \"_\" + str(row[target]))\n",
    "    transactions.append(txn)\n",
    "\n",
    "association_rules = apriori(transactions)\n",
    "association_results = list(association_rules)"
   ],
   "metadata": {
    "collapsed": false,
    "pycharm": {
     "name": "#%%\n",
     "is_executing": true
    }
   }
  },
  {
   "cell_type": "code",
   "execution_count": null,
   "outputs": [],
   "source": [
    "for item in association_results:\n",
    "    if len(item.items) < 2:\n",
    "        continue\n",
    "\n",
    "    if item.support > 0.75:\n",
    "        print(\"Rule:\", item.items)\n",
    "        print(\"Support:\", item.support)\n",
    "        print()"
   ],
   "metadata": {
    "collapsed": false,
    "pycharm": {
     "name": "#%%\n",
     "is_executing": true
    }
   }
  },
  {
   "cell_type": "markdown",
   "source": [
    "##### Observations\n",
    "\n",
    "1. From the association rule mining, we can see that lack of hypertension corresponds to lack of\n",
    "   heart disease.\n",
    "1. We can also see that lack of either heart disease or hypertension corresponds negatively to having\n",
    "   a stroke.\n",
    "1. Yet, having neither hypertension nor heart disease actually decreases the chance of having a\n",
    "   stroke. (0.84 < min(0.87, 0.91))\n"
   ],
   "metadata": {
    "collapsed": false,
    "pycharm": {
     "name": "#%% md\n"
    }
   }
  }
 ],
 "metadata": {
  "kernelspec": {
   "display_name": "Python 3",
   "language": "python",
   "name": "python3"
  },
  "language_info": {
   "codemirror_mode": {
    "name": "ipython",
    "version": 2
   },
   "file_extension": ".py",
   "mimetype": "text/x-python",
   "name": "python",
   "nbconvert_exporter": "python",
   "pygments_lexer": "ipython2",
   "version": "2.7.6"
  }
 },
 "nbformat": 4,
 "nbformat_minor": 0
}